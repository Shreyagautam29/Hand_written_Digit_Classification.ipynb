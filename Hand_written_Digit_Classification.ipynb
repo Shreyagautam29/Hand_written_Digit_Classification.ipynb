{
  "nbformat": 4,
  "nbformat_minor": 0,
  "metadata": {
    "colab": {
      "provenance": [],
      "authorship_tag": "ABX9TyNmNI/go4qh6PobXhf6GGMH",
      "include_colab_link": true
    },
    "kernelspec": {
      "name": "python3",
      "display_name": "Python 3"
    },
    "language_info": {
      "name": "python"
    }
  },
  "cells": [
    {
      "cell_type": "markdown",
      "metadata": {
        "id": "view-in-github",
        "colab_type": "text"
      },
      "source": [
        "<a href=\"https://colab.research.google.com/github/Shreyagautam29/Hand_written_Digit_Classification.ipynb/blob/main/Hand_written_Digit_Classification.ipynb\" target=\"_parent\"><img src=\"https://colab.research.google.com/assets/colab-badge.svg\" alt=\"Open In Colab\"/></a>"
      ]
    },
    {
      "cell_type": "markdown",
      "source": [
        "HAND WRITTEN DIGIT PREDICTOR"
      ],
      "metadata": {
        "id": "Hd1J0HxXez-i"
      }
    },
    {
      "cell_type": "markdown",
      "source": [
        "The digit dataset consits of 8*8 pixel images of digits. The image attribute of dataset stores 8*8 grayscale values for each image."
      ],
      "metadata": {
        "id": "Vfkyct0zfE2R"
      }
    },
    {
      "cell_type": "markdown",
      "source": [
        "IMPORT LIBRARY"
      ],
      "metadata": {
        "id": "icWABGSAf3M4"
      }
    },
    {
      "cell_type": "code",
      "source": [
        "import pandas as pd\n"
      ],
      "metadata": {
        "id": "e_78Nh5dfzwO"
      },
      "execution_count": 3,
      "outputs": []
    },
    {
      "cell_type": "code",
      "source": [
        "import numpy as np"
      ],
      "metadata": {
        "id": "9X8Fj5hegEJt"
      },
      "execution_count": 4,
      "outputs": []
    },
    {
      "cell_type": "code",
      "source": [
        "import matplotlib.pyplot as plt\n"
      ],
      "metadata": {
        "id": "M1_wZ-PLgLbX"
      },
      "execution_count": 6,
      "outputs": []
    },
    {
      "cell_type": "markdown",
      "source": [
        "IMPORT DATA"
      ],
      "metadata": {
        "id": "NGBk-vnQgcqx"
      }
    },
    {
      "cell_type": "code",
      "source": [
        "from sklearn.datasets import load_digits"
      ],
      "metadata": {
        "id": "QamxqFXBgfeg"
      },
      "execution_count": 8,
      "outputs": []
    },
    {
      "cell_type": "code",
      "source": [
        "df = load_digits()"
      ],
      "metadata": {
        "id": "ZWQbeE8MgyKd"
      },
      "execution_count": 9,
      "outputs": []
    },
    {
      "cell_type": "code",
      "source": [
        "# Create a figure with 4 subplots\n",
        "_, axes = plt.subplots(nrows=1, ncols=4, figsize=(10, 3))\n",
        "\n",
        "# Iterate through the axes, images, and labels\n",
        "for ax, image, label in zip(axes, df.images, df.target):\n",
        "    # Turn off the axis\n",
        "    ax.set_axis_off()\n",
        "\n",
        "    # Display the image\n",
        "    ax.imshow(image, cmap=plt.cm.gray_r, interpolation=\"nearest\")\n",
        "\n",
        "    # Set the title\n",
        "    ax.set_title(\"Training: %i\" % label)\n"
      ],
      "metadata": {
        "colab": {
          "base_uri": "https://localhost:8080/",
          "height": 227
        },
        "id": "1OTkJWPhCLkl",
        "outputId": "e3865137-597a-4518-f942-1c54b9e157a6"
      },
      "execution_count": 10,
      "outputs": [
        {
          "output_type": "display_data",
          "data": {
            "text/plain": [
              "<Figure size 1000x300 with 4 Axes>"
            ],
            "image/png": "[encoded data removed]"
          },
          "metadata": {}
        }
      ]
    },
    {
      "cell_type": "markdown",
      "source": [
        "DATA PROCESSING"
      ],
      "metadata": {
        "id": "t7KfnLzQEFfx"
      }
    },
    {
      "cell_type": "markdown",
      "source": [
        "FLATTEN IMAGE"
      ],
      "metadata": {
        "id": "hqXE-BO_ESH1"
      }
    },
    {
      "cell_type": "code",
      "source": [
        "df.images.shape"
      ],
      "metadata": {
        "colab": {
          "base_uri": "https://localhost:8080/"
        },
        "id": "lnYkupDbEghh",
        "outputId": "7e17a6d8-6ed4-4b3b-c7c4-fcfe5fc57135"
      },
      "execution_count": 11,
      "outputs": [
        {
          "output_type": "execute_result",
          "data": {
            "text/plain": [
              "(1797, 8, 8)"
            ]
          },
          "metadata": {},
          "execution_count": 11
        }
      ]
    },
    {
      "cell_type": "code",
      "source": [
        "df.images[0]"
      ],
      "metadata": {
        "colab": {
          "base_uri": "https://localhost:8080/"
        },
        "id": "3gpN_LwJFvhd",
        "outputId": "590550ce-d3b0-48b6-b5a8-16549d50997e"
      },
      "execution_count": 12,
      "outputs": [
        {
          "output_type": "execute_result",
          "data": {
            "text/plain": [
              "array([[ 0.,  0.,  5., 13.,  9.,  1.,  0.,  0.],\n",
              "       [ 0.,  0., 13., 15., 10., 15.,  5.,  0.],\n",
              "       [ 0.,  3., 15.,  2.,  0., 11.,  8.,  0.],\n",
              "       [ 0.,  4., 12.,  0.,  0.,  8.,  8.,  0.],\n",
              "       [ 0.,  5.,  8.,  0.,  0.,  9.,  8.,  0.],\n",
              "       [ 0.,  4., 11.,  0.,  1., 12.,  7.,  0.],\n",
              "       [ 0.,  2., 14.,  5., 10., 12.,  0.,  0.],\n",
              "       [ 0.,  0.,  6., 13., 10.,  0.,  0.,  0.]])"
            ]
          },
          "metadata": {},
          "execution_count": 12
        }
      ]
    },
    {
      "cell_type": "code",
      "source": [
        "df.images[0].shape"
      ],
      "metadata": {
        "colab": {
          "base_uri": "https://localhost:8080/"
        },
        "id": "b5AT-FQQGgBg",
        "outputId": "c47a27c7-2cf5-4eb0-ad7f-8acf2dac2ba5"
      },
      "execution_count": 13,
      "outputs": [
        {
          "output_type": "execute_result",
          "data": {
            "text/plain": [
              "(8, 8)"
            ]
          },
          "metadata": {},
          "execution_count": 13
        }
      ]
    },
    {
      "cell_type": "code",
      "source": [
        "len (df.images)"
      ],
      "metadata": {
        "colab": {
          "base_uri": "https://localhost:8080/"
        },
        "id": "YOVIP9-FIl0t",
        "outputId": "ef21c71d-11e3-4c82-edb6-652500429eaf"
      },
      "execution_count": 14,
      "outputs": [
        {
          "output_type": "execute_result",
          "data": {
            "text/plain": [
              "1797"
            ]
          },
          "metadata": {},
          "execution_count": 14
        }
      ]
    },
    {
      "cell_type": "code",
      "source": [
        "n_samples = len (df.images)\n",
        "data= df.images.reshape((n_samples, -1))"
      ],
      "metadata": {
        "id": "rXdbKwvsI7xH"
      },
      "execution_count": 15,
      "outputs": []
    },
    {
      "cell_type": "code",
      "source": [
        "data[0]"
      ],
      "metadata": {
        "colab": {
          "base_uri": "https://localhost:8080/"
        },
        "id": "nYWv48vQJ8kH",
        "outputId": "f5703a59-8149-4fba-9387-6fbd4d64755d"
      },
      "execution_count": 16,
      "outputs": [
        {
          "output_type": "execute_result",
          "data": {
            "text/plain": [
              "array([ 0.,  0.,  5., 13.,  9.,  1.,  0.,  0.,  0.,  0., 13., 15., 10.,\n",
              "       15.,  5.,  0.,  0.,  3., 15.,  2.,  0., 11.,  8.,  0.,  0.,  4.,\n",
              "       12.,  0.,  0.,  8.,  8.,  0.,  0.,  5.,  8.,  0.,  0.,  9.,  8.,\n",
              "        0.,  0.,  4., 11.,  0.,  1., 12.,  7.,  0.,  0.,  2., 14.,  5.,\n",
              "       10., 12.,  0.,  0.,  0.,  0.,  6., 13., 10.,  0.,  0.,  0.])"
            ]
          },
          "metadata": {},
          "execution_count": 16
        }
      ]
    },
    {
      "cell_type": "code",
      "source": [
        "data[0].shape"
      ],
      "metadata": {
        "colab": {
          "base_uri": "https://localhost:8080/"
        },
        "id": "nsGsbeyxJ_-t",
        "outputId": "ca4c8976-396c-4397-ad6f-a6848487ce8a"
      },
      "execution_count": 17,
      "outputs": [
        {
          "output_type": "execute_result",
          "data": {
            "text/plain": [
              "(64,)"
            ]
          },
          "metadata": {},
          "execution_count": 17
        }
      ]
    },
    {
      "cell_type": "code",
      "source": [
        "data.shape"
      ],
      "metadata": {
        "colab": {
          "base_uri": "https://localhost:8080/"
        },
        "id": "hQbMuOpGKIv5",
        "outputId": "2eb1ada4-4d52-4c61-82f9-190cd9ed0888"
      },
      "execution_count": 18,
      "outputs": [
        {
          "output_type": "execute_result",
          "data": {
            "text/plain": [
              "(1797, 64)"
            ]
          },
          "metadata": {},
          "execution_count": 18
        }
      ]
    },
    {
      "cell_type": "markdown",
      "source": [
        "SCALING IMAGE DATA"
      ],
      "metadata": {
        "id": "ELvvZ8FwKkpx"
      }
    },
    {
      "cell_type": "code",
      "source": [
        "data.min()"
      ],
      "metadata": {
        "colab": {
          "base_uri": "https://localhost:8080/"
        },
        "id": "ZQziKwSwKpWk",
        "outputId": "eab09f99-0c9c-401c-8eee-14b6ce11f7e1"
      },
      "execution_count": 19,
      "outputs": [
        {
          "output_type": "execute_result",
          "data": {
            "text/plain": [
              "0.0"
            ]
          },
          "metadata": {},
          "execution_count": 19
        }
      ]
    },
    {
      "cell_type": "code",
      "source": [
        "data.max()"
      ],
      "metadata": {
        "colab": {
          "base_uri": "https://localhost:8080/"
        },
        "id": "4NPTUFOrKxhX",
        "outputId": "f05b2edc-6a25-4b1c-8084-d5f0dab608f7"
      },
      "execution_count": 20,
      "outputs": [
        {
          "output_type": "execute_result",
          "data": {
            "text/plain": [
              "16.0"
            ]
          },
          "metadata": {},
          "execution_count": 20
        }
      ]
    },
    {
      "cell_type": "code",
      "source": [
        "data=data/16"
      ],
      "metadata": {
        "id": "PU87tfbfK0pO"
      },
      "execution_count": 22,
      "outputs": []
    },
    {
      "cell_type": "code",
      "source": [
        "data.min()"
      ],
      "metadata": {
        "colab": {
          "base_uri": "https://localhost:8080/"
        },
        "id": "92PVDdvTLPpO",
        "outputId": "ed7d36fd-e10a-45cc-86b5-6723bf624df8"
      },
      "execution_count": 23,
      "outputs": [
        {
          "output_type": "execute_result",
          "data": {
            "text/plain": [
              "0.0"
            ]
          },
          "metadata": {},
          "execution_count": 23
        }
      ]
    },
    {
      "cell_type": "code",
      "source": [
        "data.max()"
      ],
      "metadata": {
        "colab": {
          "base_uri": "https://localhost:8080/"
        },
        "id": "fWnfHY2VLVUf",
        "outputId": "a87e9b76-4c45-4a4d-aaae-9b0993a3e670"
      },
      "execution_count": 24,
      "outputs": [
        {
          "output_type": "execute_result",
          "data": {
            "text/plain": [
              "0.0625"
            ]
          },
          "metadata": {},
          "execution_count": 24
        }
      ]
    },
    {
      "cell_type": "code",
      "source": [
        "data[0]"
      ],
      "metadata": {
        "colab": {
          "base_uri": "https://localhost:8080/"
        },
        "id": "ReF7EtsXLall",
        "outputId": "2ceb9e37-3bab-46ad-e9e0-d5697f3e89e9"
      },
      "execution_count": 25,
      "outputs": [
        {
          "output_type": "execute_result",
          "data": {
            "text/plain": [
              "array([0.        , 0.        , 0.01953125, 0.05078125, 0.03515625,\n",
              "       0.00390625, 0.        , 0.        , 0.        , 0.        ,\n",
              "       0.05078125, 0.05859375, 0.0390625 , 0.05859375, 0.01953125,\n",
              "       0.        , 0.        , 0.01171875, 0.05859375, 0.0078125 ,\n",
              "       0.        , 0.04296875, 0.03125   , 0.        , 0.        ,\n",
              "       0.015625  , 0.046875  , 0.        , 0.        , 0.03125   ,\n",
              "       0.03125   , 0.        , 0.        , 0.01953125, 0.03125   ,\n",
              "       0.        , 0.        , 0.03515625, 0.03125   , 0.        ,\n",
              "       0.        , 0.015625  , 0.04296875, 0.        , 0.00390625,\n",
              "       0.046875  , 0.02734375, 0.        , 0.        , 0.0078125 ,\n",
              "       0.0546875 , 0.01953125, 0.0390625 , 0.046875  , 0.        ,\n",
              "       0.        , 0.        , 0.        , 0.0234375 , 0.05078125,\n",
              "       0.0390625 , 0.        , 0.        , 0.        ])"
            ]
          },
          "metadata": {},
          "execution_count": 25
        }
      ]
    },
    {
      "cell_type": "markdown",
      "source": [
        "TRAIN TEST SPLIT DATA"
      ],
      "metadata": {
        "id": "cqu9NDz6Lkjs"
      }
    },
    {
      "cell_type": "code",
      "source": [
        "from sklearn.model_selection import train_test_split"
      ],
      "metadata": {
        "id": "vY1seSRYLj5A"
      },
      "execution_count": 27,
      "outputs": []
    },
    {
      "cell_type": "code",
      "source": [
        "X_train, X_test, y_train, y_test = train_test_split(data, df.target, test_size=0.2)"
      ],
      "metadata": {
        "id": "f7bZuxksMV7F"
      },
      "execution_count": 28,
      "outputs": []
    },
    {
      "cell_type": "code",
      "source": [
        "X_train.shape, X_test.shape, y_train.shape, y_test.shape"
      ],
      "metadata": {
        "colab": {
          "base_uri": "https://localhost:8080/"
        },
        "id": "74OQAPpKMwTp",
        "outputId": "40d698de-87ea-4a5b-ea11-4d49f1a693ed"
      },
      "execution_count": 29,
      "outputs": [
        {
          "output_type": "execute_result",
          "data": {
            "text/plain": [
              "((1437, 64), (360, 64), (1437,), (360,))"
            ]
          },
          "metadata": {},
          "execution_count": 29
        }
      ]
    },
    {
      "cell_type": "markdown",
      "source": [
        "RANDOM FOREST MODEL"
      ],
      "metadata": {
        "id": "SoNuYiv0NGPi"
      }
    },
    {
      "cell_type": "code",
      "source": [
        "from sklearn.ensemble import RandomForestClassifier"
      ],
      "metadata": {
        "id": "mJ_wIwWpOGjw"
      },
      "execution_count": 31,
      "outputs": []
    },
    {
      "cell_type": "code",
      "source": [
        "rf= RandomForestClassifier()"
      ],
      "metadata": {
        "id": "Qo5hqSynOkMm"
      },
      "execution_count": 32,
      "outputs": []
    },
    {
      "cell_type": "code",
      "source": [
        "rf.fit(X_train,y_train)"
      ],
      "metadata": {
        "colab": {
          "base_uri": "https://localhost:8080/",
          "height": 74
        },
        "id": "jicWDCfFPCw_",
        "outputId": "95ec130d-f08f-47ef-c987-7190bc802542"
      },
      "execution_count": 33,
      "outputs": [
        {
          "output_type": "execute_result",
          "data": {
            "text/plain": [
              "RandomForestClassifier()"
            ],
            "text/html": [
              "<style>#sk-container-id-1 {color: black;background-color: white;}#sk-container-id-1 pre{padding: 0;}#sk-container-id-1 div.sk-toggleable {background-color: white;}#sk-container-id-1 label.sk-toggleable__label {cursor: pointer;display: block;width: 100%;margin-bottom: 0;padding: 0.3em;box-sizing: border-box;text-align: center;}#sk-container-id-1 label.sk-toggleable__label-arrow:before {content: \"▸\";float: left;margin-right: 0.25em;color: #696969;}#sk-container-id-1 label.sk-toggleable__label-arrow:hover:before {color: black;}#sk-container-id-1 div.sk-estimator:hover label.sk-toggleable__label-arrow:before {color: black;}#sk-container-id-1 div.sk-toggleable__content {max-height: 0;max-width: 0;overflow: hidden;text-align: left;background-color: #f0f8ff;}#sk-container-id-1 div.sk-toggleable__content pre {margin: 0.2em;color: black;border-radius: 0.25em;background-color: #f0f8ff;}#sk-container-id-1 input.sk-toggleable__control:checked~div.sk-toggleable__content {max-height: 200px;max-width: 100%;overflow: auto;}#sk-container-id-1 input.sk-toggleable__control:checked~label.sk-toggleable__label-arrow:before {content: \"▾\";}#sk-container-id-1 div.sk-estimator input.sk-toggleable__control:checked~label.sk-toggleable__label {background-color: #d4ebff;}#sk-container-id-1 div.sk-label input.sk-toggleable__control:checked~label.sk-toggleable__label {background-color: #d4ebff;}#sk-container-id-1 input.sk-hidden--visually {border: 0;clip: rect(1px 1px 1px 1px);clip: rect(1px, 1px, 1px, 1px);height: 1px;margin: -1px;overflow: hidden;padding: 0;position: absolute;width: 1px;}#sk-container-id-1 div.sk-estimator {font-family: monospace;background-color: #f0f8ff;border: 1px dotted black;border-radius: 0.25em;box-sizing: border-box;margin-bottom: 0.5em;}#sk-container-id-1 div.sk-estimator:hover {background-color: #d4ebff;}#sk-container-id-1 div.sk-parallel-item::after {content: \"\";width: 100%;border-bottom: 1px solid gray;flex-grow: 1;}#sk-container-id-1 div.sk-label:hover label.sk-toggleable__label {background-color: #d4ebff;}#sk-container-id-1 div.sk-serial::before {content: \"\";position: absolute;border-left: 1px solid gray;box-sizing: border-box;top: 0;bottom: 0;left: 50%;z-index: 0;}#sk-container-id-1 div.sk-serial {display: flex;flex-direction: column;align-items: center;background-color: white;padding-right: 0.2em;padding-left: 0.2em;position: relative;}#sk-container-id-1 div.sk-item {position: relative;z-index: 1;}#sk-container-id-1 div.sk-parallel {display: flex;align-items: stretch;justify-content: center;background-color: white;position: relative;}#sk-container-id-1 div.sk-item::before, #sk-container-id-1 div.sk-parallel-item::before {content: \"\";position: absolute;border-left: 1px solid gray;box-sizing: border-box;top: 0;bottom: 0;left: 50%;z-index: -1;}#sk-container-id-1 div.sk-parallel-item {display: flex;flex-direction: column;z-index: 1;position: relative;background-color: white;}#sk-container-id-1 div.sk-parallel-item:first-child::after {align-self: flex-end;width: 50%;}#sk-container-id-1 div.sk-parallel-item:last-child::after {align-self: flex-start;width: 50%;}#sk-container-id-1 div.sk-parallel-item:only-child::after {width: 0;}#sk-container-id-1 div.sk-dashed-wrapped {border: 1px dashed gray;margin: 0 0.4em 0.5em 0.4em;box-sizing: border-box;padding-bottom: 0.4em;background-color: white;}#sk-container-id-1 div.sk-label label {font-family: monospace;font-weight: bold;display: inline-block;line-height: 1.2em;}#sk-container-id-1 div.sk-label-container {text-align: center;}#sk-container-id-1 div.sk-container {/* jupyter's `normalize.less` sets `[hidden] { display: none; }` but bootstrap.min.css set `[hidden] { display: none !important; }` so we also need the `!important` here to be able to override the default hidden behavior on the sphinx rendered scikit-learn.org. See: https://github.com/scikit-learn/scikit-learn/issues/21755 */display: inline-block !important;position: relative;}#sk-container-id-1 div.sk-text-repr-fallback {display: none;}</style><div id=\"sk-container-id-1\" class=\"sk-top-container\"><div class=\"sk-text-repr-fallback\"><pre>RandomForestClassifier()</pre><b>In a Jupyter environment, please rerun this cell to show the HTML representation or trust the notebook. <br />On GitHub, the HTML representation is unable to render, please try loading this page with nbviewer.org.</b></div><div class=\"sk-container\" hidden><div class=\"sk-item\"><div class=\"sk-estimator sk-toggleable\"><input class=\"sk-toggleable__control sk-hidden--visually\" id=\"sk-estimator-id-1\" type=\"checkbox\" checked><label for=\"sk-estimator-id-1\" class=\"sk-toggleable__label sk-toggleable__label-arrow\">RandomForestClassifier</label><div class=\"sk-toggleable__content\"><pre>RandomForestClassifier()</pre></div></div></div></div></div>"
            ]
          },
          "metadata": {},
          "execution_count": 33
        }
      ]
    },
    {
      "cell_type": "markdown",
      "source": [
        "PREDICT TEST DATA"
      ],
      "metadata": {
        "id": "e0h7-wkwP3Nz"
      }
    },
    {
      "cell_type": "code",
      "source": [
        "y_pred = rf.predict(X_test)"
      ],
      "metadata": {
        "id": "gzarcXaZP-ii"
      },
      "execution_count": 34,
      "outputs": []
    },
    {
      "cell_type": "code",
      "source": [
        "y_pred"
      ],
      "metadata": {
        "colab": {
          "base_uri": "https://localhost:8080/"
        },
        "id": "CsWFIHuMQSKq",
        "outputId": "d0a007c8-8d1c-4bf6-d085-05a6b1d829ff"
      },
      "execution_count": 35,
      "outputs": [
        {
          "output_type": "execute_result",
          "data": {
            "text/plain": [
              "array([7, 7, 7, 3, 1, 0, 3, 5, 4, 0, 5, 8, 8, 5, 1, 9, 5, 6, 2, 5, 4, 5,\n",
              "       1, 2, 4, 1, 6, 8, 2, 9, 9, 5, 1, 8, 1, 0, 0, 6, 3, 2, 2, 3, 4, 0,\n",
              "       1, 0, 0, 7, 9, 3, 1, 2, 5, 7, 8, 8, 7, 7, 9, 5, 7, 3, 3, 3, 9, 8,\n",
              "       6, 1, 0, 2, 6, 9, 1, 4, 8, 6, 1, 9, 2, 0, 6, 4, 0, 1, 9, 4, 8, 6,\n",
              "       3, 0, 6, 2, 3, 9, 6, 8, 7, 5, 8, 7, 6, 4, 0, 2, 8, 1, 6, 2, 0, 3,\n",
              "       8, 2, 8, 8, 4, 1, 8, 9, 9, 9, 3, 1, 2, 3, 9, 7, 0, 3, 1, 9, 1, 7,\n",
              "       0, 6, 5, 2, 4, 9, 6, 3, 3, 0, 6, 0, 4, 8, 6, 5, 8, 8, 0, 5, 8, 2,\n",
              "       0, 6, 7, 1, 6, 4, 6, 0, 3, 3, 0, 1, 9, 5, 8, 5, 3, 6, 9, 8, 1, 1,\n",
              "       1, 5, 4, 0, 2, 5, 0, 0, 8, 0, 4, 6, 3, 1, 8, 1, 3, 4, 4, 2, 3, 7,\n",
              "       1, 6, 1, 3, 5, 7, 3, 5, 2, 4, 2, 3, 3, 0, 8, 4, 7, 5, 7, 0, 6, 1,\n",
              "       8, 3, 4, 1, 8, 1, 2, 4, 2, 7, 0, 1, 2, 9, 0, 0, 6, 0, 6, 5, 4, 4,\n",
              "       4, 5, 3, 1, 5, 8, 7, 7, 9, 6, 0, 6, 2, 5, 5, 1, 5, 7, 3, 8, 3, 1,\n",
              "       7, 2, 4, 6, 5, 5, 0, 1, 0, 9, 6, 0, 5, 9, 4, 7, 9, 5, 5, 9, 9, 8,\n",
              "       4, 0, 9, 7, 5, 6, 7, 1, 5, 8, 7, 8, 5, 9, 6, 7, 4, 7, 4, 4, 1, 4,\n",
              "       3, 0, 5, 3, 2, 8, 2, 0, 7, 7, 5, 3, 1, 8, 4, 2, 8, 7, 0, 2, 9, 6,\n",
              "       3, 1, 1, 9, 1, 3, 1, 9, 6, 8, 3, 0, 8, 6, 6, 1, 1, 9, 3, 3, 5, 8,\n",
              "       8, 1, 0, 2, 1, 3, 4, 8])"
            ]
          },
          "metadata": {},
          "execution_count": 35
        }
      ]
    },
    {
      "cell_type": "markdown",
      "source": [
        "MODEL ACCURACY"
      ],
      "metadata": {
        "id": "fxqT09LzSWJs"
      }
    },
    {
      "cell_type": "code",
      "source": [
        "from sklearn.metrics import confusion_matrix, classification_report"
      ],
      "metadata": {
        "id": "NfVz-ButS9pC"
      },
      "execution_count": 37,
      "outputs": []
    },
    {
      "cell_type": "code",
      "source": [
        "confusion_matrix(y_test, y_pred)"
      ],
      "metadata": {
        "colab": {
          "base_uri": "https://localhost:8080/"
        },
        "id": "AIxt2Lz8TgO2",
        "outputId": "3040c976-a79c-4e0d-8eea-a6a6d11355af"
      },
      "execution_count": 38,
      "outputs": [
        {
          "output_type": "execute_result",
          "data": {
            "text/plain": [
              "array([[40,  0,  0,  0,  0,  0,  0,  0,  0,  0],\n",
              "       [ 0, 43,  0,  0,  0,  0,  0,  0,  0,  0],\n",
              "       [ 0,  0, 29,  0,  0,  0,  0,  0,  0,  0],\n",
              "       [ 0,  0,  0, 38,  0,  1,  0,  0,  0,  1],\n",
              "       [ 0,  0,  0,  0, 31,  0,  0,  1,  1,  1],\n",
              "       [ 0,  0,  0,  0,  0, 34,  0,  0,  0,  1],\n",
              "       [ 1,  1,  0,  0,  0,  1, 35,  0,  0,  0],\n",
              "       [ 0,  0,  0,  0,  0,  0,  0, 29,  0,  0],\n",
              "       [ 0,  1,  0,  0,  1,  0,  0,  0, 39,  0],\n",
              "       [ 0,  0,  0,  1,  0,  1,  0,  1,  0, 28]])"
            ]
          },
          "metadata": {},
          "execution_count": 38
        }
      ]
    },
    {
      "cell_type": "code",
      "source": [
        "print(classification_report(y_test, y_pred))"
      ],
      "metadata": {
        "colab": {
          "base_uri": "https://localhost:8080/"
        },
        "id": "iMf4-UfET2g5",
        "outputId": "e3e757b8-9355-4a65-aebe-2e5d5a1bf143"
      },
      "execution_count": 39,
      "outputs": [
        {
          "output_type": "stream",
          "name": "stdout",
          "text": [
            "              precision    recall  f1-score   support\n",
            "\n",
            "           0       0.98      1.00      0.99        40\n",
            "           1       0.96      1.00      0.98        43\n",
            "           2       1.00      1.00      1.00        29\n",
            "           3       0.97      0.95      0.96        40\n",
            "           4       0.97      0.91      0.94        34\n",
            "           5       0.92      0.97      0.94        35\n",
            "           6       1.00      0.92      0.96        38\n",
            "           7       0.94      1.00      0.97        29\n",
            "           8       0.97      0.95      0.96        41\n",
            "           9       0.90      0.90      0.90        31\n",
            "\n",
            "    accuracy                           0.96       360\n",
            "   macro avg       0.96      0.96      0.96       360\n",
            "weighted avg       0.96      0.96      0.96       360\n",
            "\n"
          ]
        }
      ]
    }
  ]
}